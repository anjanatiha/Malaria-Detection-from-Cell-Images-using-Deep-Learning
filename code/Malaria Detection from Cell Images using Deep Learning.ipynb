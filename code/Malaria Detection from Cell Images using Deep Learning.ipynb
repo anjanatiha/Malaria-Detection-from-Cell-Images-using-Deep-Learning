{
  "cells": [
    {
      "metadata": {
        "_uuid": "b1ca1df7f5915973755864390b0003fa660cf60d"
      },
      "cell_type": "markdown",
      "source": "# Malaria Detection from Cell Images using Deep Learning"
    },
    {
      "metadata": {
        "_uuid": "1139e3ffd2535759da620e22c5cf5a8a09d72b79"
      },
      "cell_type": "markdown",
      "source": "Malaria is a life-threatening disease caused by parasites that are transmitted to people through the bites of infected female Anopheles mosquitoes. It is preventable and curable.\nMalaria causes symptoms that typically include fever, tiredness, vomiting, and headaches. In severe cases it can cause yellow skin, seizures, coma, or death. \n \n <img src=\"https://upload.wikimedia.org/wikipedia/commons/thumb/7/7e/Anopheles_stephensi.jpeg/1200px-Anopheles_stephensi.jpeg\" width=\"400\" />\n \n \n #### Signs and symptoms\n A malaria infection is generally characterized by the following signs and symptoms:\n- Fever\n- Chills\n- Headache\n- Nausea and vomiting\n- Muscle pain and fatigue\n\nOther signs and symptoms may include:\n- Sweating\n- Chest or abdominal pain\n- Cough\n <img src=\"https://upload.wikimedia.org/wikipedia/commons/thumb/d/db/Symptoms_of_Malaria.png/848px-Symptoms_of_Malaria.png\" width=\"300\" />\n\n\n#### Diagnosis: \nMalaria is typically diagnosed by the microscopic examination of blood using blood films, or with antigen-based rapid diagnostic tests.\n\n#### Prevalence:\nThe disease is widespread in the tropical and subtropical regions that exist in a broad band around the equator including much of Sub-Saharan Africa, Asia, and Latin America.\n- In 2016, there were 216 million cases of malaria worldwide resulting in an estimated 445,000 to 731,000 deaths. Approximately 90% of both cases and deaths occurred in Africa.\n- Rates of disease have decreased from 2000 to 2015 by 37%, but increased from 2014, during which there were 198 million cases.\n\n#### Risk Factor:\nMalaria is commonly associated with poverty and has a major negative effect on economic development. In Africa, it is estimated to result in losses of US$12 billion a year due to increased healthcare costs, lost ability to work, and negative effects on tourism.\n<img src=\"https://upload.wikimedia.org/wikipedia/commons/thumb/9/96/Malaria_world_map-Deaths_per_million_persons-WHO2012.svg/1200px-Malaria_world_map-Deaths_per_million_persons-WHO2012.svg.png\" width=\"600\" />\n \n Reference:\n1.  [WHO](https://www.who.int/news-room/fact-sheets/detail/malaria) \n2. [Wikipedia](https://en.wikipedia.org/wiki/Malaria)"
    },
    {
      "metadata": {
        "_uuid": "11aa55f3db0dec51c09334c64fae7f56b1a2cde1"
      },
      "cell_type": "markdown",
      "source": "# 1. Import \n"
    },
    {
      "metadata": {
        "trusted": true,
        "_uuid": "ae198668fcf74479c92b2dfbf2dc3f291b599d0e"
      },
      "cell_type": "code",
      "source": "# System\nimport sys\nimport os\nimport argparse\n\n# Time\nimport time\nimport datetime\n\n# Numerical Data\nimport random\nimport numpy as np \nimport pandas as pd\n\n# Tools\nimport shutil\nfrom glob import glob\nfrom tqdm import tqdm\nimport gc\n\n# NLP\nimport re\n\n# Preprocessing\nfrom sklearn import preprocessing\nfrom sklearn.utils import class_weight as cw\nfrom sklearn.utils import shuffle\n\n# Model Selection\nfrom sklearn.model_selection import train_test_split\nfrom sklearn.model_selection import GridSearchCV\nfrom sklearn.model_selection import cross_val_score\n\n# Machine Learning Models\nfrom sklearn import svm\nfrom sklearn.svm import LinearSVC, SVC\n\n# Evaluation Metrics\nfrom sklearn import metrics \nfrom sklearn.metrics import f1_score, accuracy_score, precision_score, recall_score, confusion_matrix, classification_report, roc_auc_score\n\n\n# Deep Learning - Keras -  Preprocessing\nfrom keras.preprocessing.image import ImageDataGenerator\n\n# Deep Learning - Keras - Model\nimport keras\nfrom keras import models\nfrom keras.models import Model\nfrom keras.models import Sequential\n\n# Deep Learning - Keras - Layers\nfrom keras.layers import Convolution1D, concatenate, SpatialDropout1D, GlobalMaxPool1D, GlobalAvgPool1D, Embedding, \\\n    Conv2D, SeparableConv1D, Add, BatchNormalization, Activation, GlobalAveragePooling2D, LeakyReLU, Flatten\nfrom keras.layers import Dense, Input, Dropout, MaxPooling2D, Concatenate, GlobalMaxPooling2D, GlobalAveragePooling2D, \\\n    Lambda, Multiply, LSTM, Bidirectional, PReLU, MaxPooling1D\nfrom keras.layers.pooling import _GlobalPooling1D\n\n# Deep Learning - Keras - Pretrained Models\nfrom keras.applications.xception import Xception\nfrom keras.applications.resnet50 import ResNet50\nfrom keras.applications.inception_v3 import InceptionV3\nfrom keras.applications.inception_resnet_v2 import InceptionResNetV2\nfrom keras.applications.densenet import DenseNet201\nfrom keras.applications.nasnet import NASNetMobile, NASNetLarge\n\nfrom keras.applications.nasnet import preprocess_input\n\n# Deep Learning - Keras - Model Parameters and Evaluation Metrics\nfrom keras import optimizers\nfrom keras.optimizers import Adam, SGD , RMSprop\nfrom keras.losses import mae, sparse_categorical_crossentropy, binary_crossentropy\n\n# Deep Learning - Keras - Visualisation\nfrom keras.callbacks import ModelCheckpoint, EarlyStopping, TensorBoard, ReduceLROnPlateau\n# from keras.wrappers.scikit_learn import KerasClassifier\nfrom keras import backend as K\n\n# Deep Learning - TensorFlow\nimport tensorflow as tf\n\n# Graph/ Visualization\nimport matplotlib.pyplot as plt\nfrom matplotlib.pyplot import figure\nimport matplotlib.image as mpimg\nimport seaborn as sns\nfrom mlxtend.plotting import plot_confusion_matrix\n\n# Image\nimport cv2\nfrom PIL import Image\nfrom IPython.display import display\n\n# np.random.seed(42)\n\n%matplotlib inline\n\n# Input data\nprint(os.listdir(\"../input\"))",
      "execution_count": null,
      "outputs": []
    },
    {
      "metadata": {
        "_uuid": "43ec897e74117506f17611b58af485a2e013e848"
      },
      "cell_type": "markdown",
      "source": "# 2. Functions"
    },
    {
      "metadata": {
        "trusted": true,
        "_uuid": "cbe4bc8e76957ae5b139e87a19e75e51be7af414"
      },
      "cell_type": "code",
      "source": "def date_time(x):\n    if x==1:\n        return 'Timestamp: {:%Y-%m-%d %H:%M:%S}'.format(datetime.datetime.now())\n    if x==2:    \n        return 'Timestamp: {:%Y-%b-%d %H:%M:%S}'.format(datetime.datetime.now())\n    if x==3:  \n        return 'Date now: %s' % datetime.datetime.now()\n    if x==4:  \n        return 'Date today: %s' % datetime.date.today()  ",
      "execution_count": null,
      "outputs": []
    },
    {
      "metadata": {
        "_uuid": "cc1f975dabb307ccf1c219b5021dfc4a97a7a117"
      },
      "cell_type": "markdown",
      "source": "# 3. Input Configuration"
    },
    {
      "metadata": {
        "trusted": true,
        "_uuid": "a8a36cda21a37ddf8002c994b682d91a81c59b56"
      },
      "cell_type": "code",
      "source": "input_directory = r\"../input/cell_images/cell_images\"\noutput_directory = r\"../output/\"\n\ntraining_dir = input_directory\n# testing_dir = input_directory + r\"test\"\n\nif not os.path.exists(output_directory):\n    os.mkdir(output_directory)\n    \nfigure_directory = \"../output/figures\"\nif not os.path.exists(figure_directory):\n    os.mkdir(figure_directory)\n    \n    \nfile_name_pred_batch = figure_directory+r\"/result\"\nfile_name_pred_sample = figure_directory+r\"/sample\"",
      "execution_count": null,
      "outputs": []
    },
    {
      "metadata": {
        "_uuid": "9e02a5a1b4538b67bf351ec59a9cfd7f832fb0e3"
      },
      "cell_type": "markdown",
      "source": "# 4. Visualization"
    },
    {
      "metadata": {
        "trusted": true,
        "_uuid": "90fed2e4b122755b68312621acd1cbfa6bdd3ddd"
      },
      "cell_type": "code",
      "source": "def plot_image(file, directory=None, sub=False, aspect=None):\n    path = directory + file\n    \n    img = plt.imread(path)\n    \n    plt.imshow(img, aspect=aspect)\n#     plt.title(file)\n    plt.xticks([])\n    plt.yticks([])\n    \n    if sub:\n        plt.show()\n        \ndef plot_img_dir(directory=training_dir, count=5):\n    selected_files = random.sample(os.listdir(directory), count)\n    \n    ncols = 5\n    nrows = count//ncols if count%ncols==0 else count//ncols+1\n    \n    figsize=(20, ncols*nrows)\n\n    ticksize = 14\n    titlesize = ticksize + 8\n    labelsize = ticksize + 5\n\n\n    params = {'figure.figsize' : figsize,\n              'axes.labelsize' : labelsize,\n              'axes.titlesize' : titlesize,\n              'xtick.labelsize': ticksize,\n              'ytick.labelsize': ticksize}\n\n    plt.rcParams.update(params)\n    \n    i=0\n    \n    for file in selected_files:        \n        plt.subplot(nrows, ncols, i+1)\n        path = directory + file\n        plot_image(file, directory, aspect=None)\n\n        i=i+1\n    \n    plt.tight_layout()\n    plt.show()\n    \ndef plot_img_dir_main(directory=training_dir, count=5):\n    labels = os.listdir(directory)\n    for label in labels:\n        print(label)\n        plot_img_dir(directory=directory+\"/\"+label+\"/\", count=count)\n        ",
      "execution_count": null,
      "outputs": []
    },
    {
      "metadata": {
        "trusted": true,
        "_uuid": "0e6059fc1714fba66dfd160d7a37c9bfd0566594"
      },
      "cell_type": "code",
      "source": "plot_img_dir_main(directory=training_dir, count=5)",
      "execution_count": null,
      "outputs": []
    },
    {
      "metadata": {
        "_uuid": "08472c5647d039fe88134dd5bbf51b1bacafe700"
      },
      "cell_type": "markdown",
      "source": "# 5. Preprocess"
    },
    {
      "metadata": {
        "_uuid": "6368be0cd0b5b944d842b963bdfb9a8b22843510"
      },
      "cell_type": "markdown",
      "source": "#### During Preprocessing, all of the image has been transformed to target size (224, 224) and pixel value has been rescaled to unit value. (224, 224) is the input shape for Pretrained model \"NashNetMobile\". The target class is treated as categorical and both training and validation image set has been re-shuffled. Some of the images has been horizontally and vertically flipped randomly and sheerness and rotation has been changed to introduce heterogeneity. A part of training dataset has been used as validation set. "
    },
    {
      "metadata": {
        "trusted": true,
        "_uuid": "5f0a5bf3d06e33bec36a8b9355483d3432d5c63f"
      },
      "cell_type": "code",
      "source": "def get_data(batch_size=32, target_size=(299, 299), class_mode=\"categorical\", training_dir=training_dir, testing_dir=None):\n    print(\"Preprocessing and Generating Data Batches.......\\n\")\n    \n    rescale = 1.0/255\n\n    train_batch_size = batch_size\n    test_batch_size = batch_size\n    \n    train_shuffle = True\n    val_shuffle = True\n    test_shuffle = False\n    \n    train_datagen = ImageDataGenerator(\n        horizontal_flip=True,\n        vertical_flip=True,\n        rotation_range=45,\n        shear_range=16,\n        rescale=rescale,\n        validation_split=0.25)\n\n    train_generator = train_datagen.flow_from_directory(\n        training_dir,\n        target_size=target_size, \n        class_mode=class_mode, \n        batch_size=batch_size, \n        shuffle=True, \n        seed=42,\n        subset='training')\n    \n    validation_generator = train_datagen.flow_from_directory(\n        training_dir, \n        target_size=target_size, \n        class_mode=class_mode, \n        batch_size=1024, \n        shuffle=True, \n        seed=42,\n        subset='validation')\n    \n    test_datagen = ImageDataGenerator(rescale=rescale)\n    \n    test_generator = None\n    \n    \n    class_weights = get_weight(train_generator.classes)\n    \n    steps_per_epoch = len(train_generator)\n    validation_steps = len(validation_generator)\n    \n    print(\"\\nPreprocessing and Data Batch Generation Completed.\\n\")\n    \n    \n    return train_generator, validation_generator, test_generator, class_weights, steps_per_epoch, validation_steps\n\n# Calculate Class Weights\ndef get_weight(y):\n    class_weight_current =  cw.compute_class_weight('balanced', np.unique(y), y)\n    return class_weight_current",
      "execution_count": null,
      "outputs": []
    },
    {
      "metadata": {
        "_uuid": "e02af0cac288607e1ae124f8242db9b1c05688c8"
      },
      "cell_type": "markdown",
      "source": "# 5. Model Function"
    },
    {
      "metadata": {
        "trusted": true,
        "_uuid": "868b5798867b18a80f8d5b12957cd7965a0b65ae"
      },
      "cell_type": "code",
      "source": "def get_model(model_name, input_shape=(96, 96, 3), num_class=2):\n    inputs = Input(input_shape)\n    \n    if model_name == \"Xception\":\n        base_model = Xception(include_top=False, input_shape=input_shape)\n    elif model_name == \"ResNet50\":\n        base_model = ResNet50(include_top=False, input_shape=input_shape)\n    elif model_name == \"InceptionV3\":\n        # base_model = InceptionV3(include_top=False, input_shape=input_shape)\n        base_model = InceptionV3(weights='imagenet', include_top=False, input_shape=input_shape)\n    elif model_name == \"InceptionResNetV2\":\n        base_model = InceptionResNetV2(include_top=False, input_shape=input_shape)\n    if model_name == \"DenseNet201\":\n        base_model = DenseNet201(include_top=False, input_shape=input_shape)\n    if model_name == \"NASNetMobile\":\n        base_model = NASNetMobile(include_top=False, input_shape=input_shape)\n    if model_name == \"NASNetLarge\":\n        base_model = NASNetLarge(include_top=False, input_shape=input_shape)\n            \n#     for layer in base_model.layers:\n#         layer.trainable = False\n        \n#     for layer in model.layers[:249]:\n#         layer.trainable = False\n#     for layer in model.layers[249:]:\n#         layer.trainable = True\n    \n#     x = base_model(inputs)\n#     x = GlobalAveragePooling2D()(x)\n#     x = BatchNormalization()(x)\n#     x = Dropout(0.2)(x)\n#     out = Dense(2, activation=\"softmax\")(x)\n#     model = Model(inputs, out)\n\n    x = base_model(inputs)\n    \n    output1 = GlobalMaxPooling2D()(x)\n    output2 = GlobalAveragePooling2D()(x)\n    output3 = Flatten()(x)\n    \n    outputs = Concatenate(axis=-1)([output1, output2, output3])\n    \n    outputs = Dropout(0.5)(outputs)\n    outputs = BatchNormalization()(outputs)\n    \n    if num_class>1:\n        outputs = Dense(num_class, activation=\"softmax\")(outputs)\n    else:\n        outputs = Dense(1, activation=\"sigmoid\")(outputs)\n        \n    model = Model(inputs, outputs)\n    \n    model.summary()\n    \n    \n    return model\n\n# Custom Convolutional Neural Network \ndef get_conv_model(num_class=2, input_shape=(3,150,150)):\n    model = Sequential()\n    \n    model.add(Conv2D(16, (3, 3), activation='relu', padding=\"same\", input_shape=input_shape))\n    model.add(Conv2D(16, (3, 3), padding=\"same\", activation='relu'))\n    model.add(MaxPooling2D(pool_size=(2, 2)))\n    model.add(Dropout(0.5))\n    model.add(BatchNormalization())\n\n    model.add(Conv2D(32, (3, 3), activation='relu', padding=\"same\"))\n    model.add(Conv2D(32, (3, 3), padding=\"same\", activation='relu'))\n    model.add(MaxPooling2D(pool_size=(2, 2)))\n    model.add(Dropout(0.5))\n    model.add(BatchNormalization())\n\n    model.add(Conv2D(64, (3, 3), activation='relu', padding=\"same\"))\n    model.add(Conv2D(64, (3, 3), padding=\"same\", activation='relu'))\n    model.add(MaxPooling2D(pool_size=(2, 2)))\n    model.add(Dropout(0.5))\n    model.add(BatchNormalization())\n\n    model.add(Conv2D(96, (3, 3), dilation_rate=(2, 2), activation='relu', padding=\"same\"))\n    model.add(Conv2D(96, (3, 3), padding=\"valid\", activation='relu'))\n    model.add(MaxPooling2D(pool_size=(2, 2)))\n    model.add(Dropout(0.5))\n    model.add(BatchNormalization())\n\n    model.add(Conv2D(128, (3, 3), dilation_rate=(2, 2), activation='relu', padding=\"same\"))\n    model.add(Conv2D(128, (3, 3), padding=\"valid\", activation='relu'))\n    model.add(MaxPooling2D(pool_size=(2, 2)))\n    model.add(Dropout(0.5))\n    model.add(BatchNormalization())\n\n    model.add(Flatten())\n    \n    model.add(Dropout(0.5))\n    model.add(BatchNormalization())\n    \n    model.add(Dense(256, activation='relu'))\n    model.add(Dropout(0.5))\n    model.add(BatchNormalization())\n    \n    model.add(Dense(num_class , activation='softmax'))\n\n    print(model.summary())\n    \n    return model\n",
      "execution_count": null,
      "outputs": []
    },
    {
      "metadata": {
        "_uuid": "3e56fcfe7a60a2759f1952f30f7fb05726b022c5"
      },
      "cell_type": "markdown",
      "source": "# 6. Output Configuration"
    },
    {
      "metadata": {
        "trusted": true,
        "_uuid": "644c92b9756bb9fd1d980302a315d38298aa8472"
      },
      "cell_type": "code",
      "source": "main_model_dir = output_directory + r\"models/\"\nmain_log_dir = output_directory + r\"logs/\"\n\ntry:\n    os.mkdir(main_model_dir)\nexcept:\n    print(\"Could not create main model directory\")\n    \ntry:\n    os.mkdir(main_log_dir)\nexcept:\n    print(\"Could not create main log directory\")\n\n\n\nmodel_dir = main_model_dir + time.strftime('%Y-%m-%d %H-%M-%S') + \"/\"\nlog_dir = main_log_dir + time.strftime('%Y-%m-%d %H-%M-%S')\n\n\ntry:\n    os.mkdir(model_dir)\nexcept:\n    print(\"Could not create model directory\")\n    \ntry:\n    os.mkdir(log_dir)\nexcept:\n    print(\"Could not create log directory\")\n    \nmodel_file = model_dir + \"{epoch:02d}-val_acc-{val_acc:.2f}-val_loss-{val_loss:.2f}.hdf5\"",
      "execution_count": null,
      "outputs": []
    },
    {
      "metadata": {
        "_uuid": "d5133db17f6ff324823b131eacc3fb471943adc1"
      },
      "cell_type": "markdown",
      "source": "## 6.2 Call Back Configuration"
    },
    {
      "metadata": {
        "trusted": true,
        "_uuid": "104999913bc3bd3f1181b365fff5cc23f9a56ce7"
      },
      "cell_type": "code",
      "source": "print(\"Settting Callbacks\")\n\ncheckpoint = ModelCheckpoint(\n    model_file, \n    monitor='val_acc', \n    save_best_only=True)\n\nearly_stopping = EarlyStopping(\n    monitor='val_loss',\n    patience=2,\n    verbose=1,\n    restore_best_weights=True)\n\n\nreduce_lr = ReduceLROnPlateau(\n    monitor='val_loss',\n    factor=0.6,\n    patience=1,\n    verbose=1)\n\ncallbacks = [reduce_lr, early_stopping, checkpoint]\n\ncallbacks = [checkpoint, reduce_lr, early_stopping]\n\nprint(\"Set Callbacks at \", date_time(1))",
      "execution_count": null,
      "outputs": []
    },
    {
      "metadata": {
        "_uuid": "6fbe80b2f63f0b9972c1546b088b667331108aa5"
      },
      "cell_type": "markdown",
      "source": "# 7. Model"
    },
    {
      "metadata": {
        "trusted": true,
        "_uuid": "27dc13b90ff17042f2912f50ef4a8ad288f9914f"
      },
      "cell_type": "code",
      "source": "print(\"Getting Base Model\", date_time(1))\n\n# input_shape = (96, 96, 3)\ninput_shape = (224, 224, 3)\n\nnum_class = 2\n\n\nmodel = get_model(model_name=\"NASNetMobile\", input_shape=input_shape, num_class=num_class)\n# model = get_conv_model(input_shape=input_shape)\n\nprint(\"Loaded Base Model\", date_time(1))",
      "execution_count": null,
      "outputs": []
    },
    {
      "metadata": {
        "trusted": true,
        "_uuid": "77a593fffaf1b82c2b82bbfd8d5335bc7995a6bf"
      },
      "cell_type": "code",
      "source": "loss = 'categorical_crossentropy'\n# loss = 'binary_crossentropy'\nmetrics = ['acc']\n# metrics = [auroc]",
      "execution_count": null,
      "outputs": []
    },
    {
      "metadata": {
        "_uuid": "c975187a17a5e9d07ff15484cac2824fcab1fd53"
      },
      "cell_type": "markdown",
      "source": "# 8. Data"
    },
    {
      "metadata": {
        "trusted": true,
        "_uuid": "6daf75886fbc7d444222398f04637e5cc4aed9e7"
      },
      "cell_type": "code",
      "source": "# batch_size = 32\nbatch_size = 176\n\nclass_mode = \"categorical\"\n# class_mode = \"binary\"\n\n# target_size=(96, 96)\ntarget_size=(224, 224)\n\ntrain_generator, validation_generator, test_generator, class_weights, steps_per_epoch, validation_steps = get_data(batch_size=batch_size, target_size=target_size, class_mode=class_mode)",
      "execution_count": null,
      "outputs": []
    },
    {
      "metadata": {
        "_uuid": "cd11c2eb7719f3f866c9e9ee201ca67e556fc73b"
      },
      "cell_type": "markdown",
      "source": "\n# 9. Training"
    },
    {
      "metadata": {
        "_uuid": "8e335384316089698ee7e1a2f2cd1d6ad2ed4df9"
      },
      "cell_type": "markdown",
      "source": "#### Trained model on full tranning dataset for 10 epochs and validated on full validation dataset. Adjusted class weight has been used for trainning. For optimization used Adam optimizer with learning rate of 0.0001. For loss calculation used categorical crossentropy and for model performance evaluation used accuracy metrics.  "
    },
    {
      "metadata": {
        "trusted": true,
        "_uuid": "5ac153e86d2338beab9cb0a3693f9c61fe7d3f04",
        "scrolled": true
      },
      "cell_type": "code",
      "source": "print(\"Starting Trainning ...\\n\")\n\nstart_time = time.time()\nprint(date_time(1))\n\n# batch_size = 32\n# train_generator, validation_generator, test_generator, class_weights, steps_per_epoch, validation_steps = get_data(batch_size=batch_size)\n\nprint(\"\\n\\nCompliling Model ...\\n\")\nlearning_rate = 0.0001\noptimizer = Adam(learning_rate)\n# optimizer = Adam()\n\nmodel.compile(optimizer=optimizer, loss=loss, metrics=metrics)\n\n# steps_per_epoch = 180\n# validation_steps = 40\n\nverbose = 1\nepochs = 10\n\nprint(\"Trainning Model ...\\n\")\nhistory = model.fit_generator(\n    train_generator,\n    steps_per_epoch=steps_per_epoch,\n    epochs=epochs,\n    verbose=verbose,\n    callbacks=callbacks,\n    validation_data=validation_generator,\n    validation_steps=validation_steps, \n    class_weight=class_weights)\n\nelapsed_time = time.time() - start_time\nelapsed_time = time.strftime(\"%H:%M:%S\", time.gmtime(elapsed_time))\n\nprint(\"\\nElapsed Time: \" + elapsed_time)\nprint(\"Completed Model Trainning\", date_time(1))",
      "execution_count": null,
      "outputs": []
    },
    {
      "metadata": {
        "_uuid": "36b7d58a68aa0603ac98b4f3fdcad627b918642d"
      },
      "cell_type": "markdown",
      "source": "# 10. Model Performance \nModel Performance  Visualization over the Epochs"
    },
    {
      "metadata": {
        "trusted": true,
        "_uuid": "361892313801cd84bc66a62e5347c20c6c86e6fe"
      },
      "cell_type": "code",
      "source": "def plot_performance(history=None, figure_directory=None):\n    xlabel = 'Epoch'\n    legends = ['Training', 'Validation']\n\n    ylim_pad = [0.005, 0.005]\n#     ylim_pad = [0, 0]\n\n\n    plt.figure(figsize=(20, 5))\n\n    # Plot training & validation Accuracy values\n\n    y1 = history.history['acc']\n    y2 = history.history['val_acc']\n\n    min_y = min(min(y1), min(y2))-ylim_pad[0]\n    max_y = max(max(y1), max(y2))+ylim_pad[0]\n\n\n    plt.subplot(121)\n\n    plt.plot(y1)\n    plt.plot(y2)\n\n    plt.title('Model Accuracy\\n'+date_time(1), fontsize=17)\n    plt.xlabel(xlabel, fontsize=15)\n    plt.ylabel('Accuracy', fontsize=15)\n    plt.ylim(min_y, max_y)\n    plt.legend(legends, loc='upper left')\n    plt.grid()\n\n\n    # Plot training & validation loss values\n\n    y1 = history.history['loss']\n    y2 = history.history['val_loss']\n\n    min_y = min(min(y1), min(y2))-ylim_pad[1]\n    max_y = max(max(y1), max(y2))+ylim_pad[1]\n\n\n    plt.subplot(122)\n\n    plt.plot(y1)\n    plt.plot(y2)\n\n    plt.title('Model Loss\\n'+date_time(1), fontsize=17)\n    plt.xlabel(xlabel, fontsize=15)\n    plt.ylabel('Loss', fontsize=15)\n    plt.ylim(min_y, max_y)\n    plt.legend(legends, loc='upper left')\n    plt.grid()\n    if figure_directory:\n        plt.savefig(figure_directory+\"/history\")\n\n    plt.show()",
      "execution_count": null,
      "outputs": []
    },
    {
      "metadata": {
        "trusted": true,
        "_uuid": "84f9360eb9554faaeaae16fbd5e9994b9c550c76"
      },
      "cell_type": "code",
      "source": "plot_performance(history=history)",
      "execution_count": null,
      "outputs": []
    },
    {
      "metadata": {
        "trusted": true,
        "_uuid": "22c09d411cfaed347995ec8308be13f2d848efe8"
      },
      "cell_type": "code",
      "source": "",
      "execution_count": null,
      "outputs": []
    }
  ],
  "metadata": {
    "kernelspec": {
      "display_name": "Python 3",
      "language": "python",
      "name": "python3"
    },
    "language_info": {
      "name": "python",
      "version": "3.6.6",
      "mimetype": "text/x-python",
      "codemirror_mode": {
        "name": "ipython",
        "version": 3
      },
      "pygments_lexer": "ipython3",
      "nbconvert_exporter": "python",
      "file_extension": ".py"
    }
  },
  "nbformat": 4,
  "nbformat_minor": 1
}